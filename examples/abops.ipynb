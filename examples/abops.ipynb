{
 "metadata": {
  "name": "",
  "signature": "sha256:596ef88613f300d430a60e3f5fffc0490f40d7ce996cc222527a8379104d7c88"
 },
 "nbformat": 3,
 "nbformat_minor": 0,
 "worksheets": [
  {
   "cells": [
    {
     "cell_type": "code",
     "collapsed": false,
     "input": [
      "a = 8\n",
      "b = 15"
     ],
     "language": "python",
     "metadata": {},
     "outputs": [],
     "prompt_number": 2
    },
    {
     "cell_type": "markdown",
     "metadata": {},
     "source": [
      "Operations on A and B\n",
      "====================="
     ]
    },
    {
     "cell_type": "code",
     "collapsed": false,
     "input": [
      "c = a + b\n",
      "c"
     ],
     "language": "python",
     "metadata": {},
     "outputs": [
      {
       "metadata": {},
       "output_type": "pyout",
       "prompt_number": 3,
       "text": [
        "23"
       ]
      }
     ],
     "prompt_number": 3
    },
    {
     "cell_type": "code",
     "collapsed": false,
     "input": [
      "d = a * b"
     ],
     "language": "python",
     "metadata": {},
     "outputs": [],
     "prompt_number": 6
    },
    {
     "cell_type": "code",
     "collapsed": false,
     "input": [
      "print \"INPUTS (a,b):\", (a,b)\n",
      "print \"C (a+b):\", c\n",
      "print \"D (a*b):\", d"
     ],
     "language": "python",
     "metadata": {},
     "outputs": [
      {
       "output_type": "stream",
       "stream": "stdout",
       "text": [
        "INPUTS (a,b): (8, 15)\n",
        "C (a+b): 23\n",
        "D (a*b): 120\n"
       ]
      }
     ],
     "prompt_number": 7
    },
    {
     "cell_type": "raw",
     "metadata": {},
     "source": [
      "{\"inputs\": {\"a\": \"int\", \"b\": \"int\"}}"
     ]
    }
   ],
   "metadata": {}
  }
 ]
}