{
 "metadata": {
  "name": "",
  "signature": "sha256:886110d7ae85245e65437ed16e2cf65b8e352e1acf469b5d668e5bbfc319dfc9"
 },
 "nbformat": 3,
 "nbformat_minor": 0,
 "worksheets": [
  {
   "cells": [
    {
     "cell_type": "code",
     "collapsed": false,
     "input": [
      "a = 8\n",
      "b = 15"
     ],
     "language": "python",
     "metadata": {},
     "outputs": [],
     "prompt_number": 1
    },
    {
     "cell_type": "markdown",
     "metadata": {},
     "source": [
      "Adder: a + b\n",
      "================"
     ]
    },
    {
     "cell_type": "code",
     "collapsed": false,
     "input": [
      "c = a + b"
     ],
     "language": "python",
     "metadata": {},
     "outputs": [],
     "prompt_number": 2
    },
    {
     "cell_type": "code",
     "collapsed": false,
     "input": [
      "print \"INPUTS (a,b):\", (a,b)\n",
      "print \"RESULTS: \", c"
     ],
     "language": "python",
     "metadata": {},
     "outputs": [
      {
       "output_type": "stream",
       "stream": "stdout",
       "text": [
        "INPUTS (a,b): (8, 15)\n",
        "RESULTS:  23\n"
       ]
      }
     ],
     "prompt_number": 6
    },
    {
     "cell_type": "raw",
     "metadata": {},
     "source": [
      "{\"inputs\": {\"a\": \"int\", \"b\": \"int\"}}"
     ]
    }
   ],
   "metadata": {}
  }
 ]
}