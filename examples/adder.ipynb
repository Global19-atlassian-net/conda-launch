{
 "metadata": {
  "name": "",
  "signature": "sha256:3be1e4b6d31dc2c2b55c054d54cd66eb8559fb7c4ed01676f37e110ed2a33643"
 },
 "nbformat": 3,
 "nbformat_minor": 0,
 "worksheets": [
  {
   "cells": [
    {
     "cell_type": "code",
     "collapsed": false,
     "input": [
      "a = 5\n",
      "b = 6\n",
      "c = 7"
     ],
     "language": "python",
     "metadata": {},
     "outputs": [],
     "prompt_number": 6
    },
    {
     "cell_type": "markdown",
     "metadata": {},
     "source": [
      "New and Improved Adder (float): $a^3 + 7*b + c$\n",
      "========================================="
     ]
    },
    {
     "cell_type": "code",
     "collapsed": false,
     "input": [
      "d = a**3+ 7*b + c"
     ],
     "language": "python",
     "metadata": {},
     "outputs": [],
     "prompt_number": 7
    },
    {
     "cell_type": "code",
     "collapsed": false,
     "input": [
      "print \"A new cell\""
     ],
     "language": "python",
     "metadata": {},
     "outputs": [
      {
       "output_type": "stream",
       "stream": "stdout",
       "text": [
        "A new cell\n"
       ]
      }
     ],
     "prompt_number": 8
    },
    {
     "cell_type": "code",
     "collapsed": false,
     "input": [
      "print \"ERDC-CHL Demo Updated function\"\n",
      "print \"INPUTS (a,b,c):\", (a,b,c)\n",
      "print \"RESULTS: \", d"
     ],
     "language": "python",
     "metadata": {},
     "outputs": [
      {
       "output_type": "stream",
       "stream": "stdout",
       "text": [
        "ERDC-CHL Demo Updated function\n",
        "INPUTS (a,b,c): (5, 6, 7)\n",
        "RESULTS:  174\n"
       ]
      }
     ],
     "prompt_number": 9
    },
    {
     "cell_type": "raw",
     "metadata": {},
     "source": [
      "{\"inputs\": {\"a\": \"float\", \"b\": \"float\", \"c\": \"float\"}}"
     ]
    },
    {
     "cell_type": "code",
     "collapsed": false,
     "input": [],
     "language": "python",
     "metadata": {},
     "outputs": []
    }
   ],
   "metadata": {}
  }
 ]
}