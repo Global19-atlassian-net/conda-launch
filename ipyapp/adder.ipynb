{
 "metadata": {
  "name": "",
  "signature": "sha256:f1a8ba88d8ce5a7e76db286db2334ea472df3382f2c4f40a788e229b76135be6"
 },
 "nbformat": 3,
 "nbformat_minor": 0,
 "worksheets": [
  {
   "cells": [
    {
     "cell_type": "code",
     "collapsed": false,
     "input": [
      "a = 8\n",
      "b = 15"
     ],
     "language": "python",
     "metadata": {},
     "outputs": [],
     "prompt_number": 4
    },
    {
     "cell_type": "markdown",
     "metadata": {},
     "source": [
      "New Adder: a + b\n",
      "================"
     ]
    },
    {
     "cell_type": "code",
     "collapsed": false,
     "input": [
      "c = a + b\n",
      "c"
     ],
     "language": "python",
     "metadata": {},
     "outputs": [
      {
       "metadata": {},
       "output_type": "pyout",
       "prompt_number": 5,
       "text": [
        "23"
       ]
      }
     ],
     "prompt_number": 5
    },
    {
     "cell_type": "code",
     "collapsed": false,
     "input": [
      "print \"INPUTS (a,b):\", (a,b)\n",
      "print \"RESULTS: \", c"
     ],
     "language": "python",
     "metadata": {},
     "outputs": [
      {
       "output_type": "stream",
       "stream": "stdout",
       "text": [
        "INPUTS (a,b): (8, 15)\n",
        "RESULTS:  23\n"
       ]
      }
     ],
     "prompt_number": 6
    },
    {
     "cell_type": "raw",
     "metadata": {},
     "source": [
      "{\"inputs\": {\"a\": \"int\", \"b\": \"int\"}}"
     ]
    }
   ],
   "metadata": {}
  }
 ]
}