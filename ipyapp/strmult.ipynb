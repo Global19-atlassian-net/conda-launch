{
 "metadata": {
  "name": "",
  "signature": "sha256:8ef5602a0231f29200272848c874bee006129d98cfbace45923ca2c09d0a37da"
 },
 "nbformat": 3,
 "nbformat_minor": 0,
 "worksheets": [
  {
   "cells": [
    {
     "cell_type": "code",
     "collapsed": false,
     "input": [
      "s = 'foo'\n",
      "n = 3"
     ],
     "language": "python",
     "metadata": {},
     "outputs": [],
     "prompt_number": 1
    },
    {
     "cell_type": "code",
     "collapsed": false,
     "input": [
      "print s * n"
     ],
     "language": "python",
     "metadata": {},
     "outputs": [
      {
       "output_type": "stream",
       "stream": "stdout",
       "text": [
        "foofoofoo\n"
       ]
      }
     ],
     "prompt_number": 2
    },
    {
     "cell_type": "raw",
     "metadata": {},
     "source": [
      "{\"inputs\": {\"s\": \"str\", \"n\": \"int\"}}"
     ]
    }
   ],
   "metadata": {}
  }
 ]
}